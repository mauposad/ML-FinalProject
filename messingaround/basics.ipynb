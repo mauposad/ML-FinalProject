{
 "cells": [
  {
   "cell_type": "code",
   "execution_count": 2,
   "metadata": {},
   "outputs": [],
   "source": [
    "import torch \n",
    "import torch.nn as nn\n",
    "import numpy as numpy\n",
    "import pandas as pd\n"
   ]
  },
  {
   "cell_type": "code",
   "execution_count": 2,
   "metadata": {},
   "outputs": [],
   "source": [
    "class MLP(nn.Module):\n",
    "    def __init__(self, input_dim, output_dim, hyp):\n",
    "        super().__init__()\n",
    "        self.layers = nn.Sequential( #pytorch list where order matters. Compisition happening\n",
    "            # 2 hidden layers and an output layer\n",
    "            nn.Linear(input_dim, input_dim*hyp),\n",
    "            nn.ReLU(),\n",
    "            nn.Linear(input_dim, input_dim*hyp),\n",
    "            nn.ReLU(),\n",
    "            nn.Linear(input_dim, output_dim)\n",
    "        )"
   ]
  },
  {
   "cell_type": "code",
   "execution_count": null,
   "metadata": {},
   "outputs": [],
   "source": [
    "from sklearn.preprocessing import StandardScaler\n",
    "from sklearn.model_selection import train_test_split\n",
    "from sklearn.datasets import fetch_california_housing\n",
    "\n",
    "#reading in dataset\n",
    "ch = fetch_california_housing()\n",
    "df =pd.DataFrame(data=ch.data, columns = ch.feature_name)\n",
    "\n"
   ]
  },
  {
   "cell_type": "code",
   "execution_count": null,
   "metadata": {},
   "outputs": [],
   "source": [
    "df_train, df_temp = train_test_split(df, train_size=.70, random_state=42)\n",
    "df_val, df_test = train_test_split(df_temp, train_size=.5, random_size=42)\n",
    "\n",
    "print(df.train.shape[0])\n",
    "print(df_val.shape[0])\n",
    "print(df_test.shape[0])"
   ]
  }
 ],
 "metadata": {
  "kernelspec": {
   "display_name": "ML",
   "language": "python",
   "name": "python3"
  },
  "language_info": {
   "codemirror_mode": {
    "name": "ipython",
    "version": 3
   },
   "file_extension": ".py",
   "mimetype": "text/x-python",
   "name": "python",
   "nbconvert_exporter": "python",
   "pygments_lexer": "ipython3",
   "version": "3.12.2"
  }
 },
 "nbformat": 4,
 "nbformat_minor": 2
}
