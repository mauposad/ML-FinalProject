{
 "cells": [
  {
   "cell_type": "code",
   "execution_count": null,
   "metadata": {},
   "outputs": [],
   "source": [
    "import tensorflow_datasets as tfds\n",
    "import sklearn\n",
    "import pandas as pd\n",
    "import torch \n",
    "import torch.nn as nn\n",
    "import numpy\n",
    "\n",
    "\n",
    "emnist_data, emnist_info = tfds.load(name = 'emnist', split = 'train[:1000]+test[:100]', with_info = True)\n",
    "print(emnist_info)"
   ]
  }
 ],
 "metadata": {
  "kernelspec": {
   "display_name": "ML",
   "language": "python",
   "name": "python3"
  },
  "language_info": {
   "codemirror_mode": {
    "name": "ipython",
    "version": 3
   },
   "file_extension": ".py",
   "mimetype": "text/x-python",
   "name": "python",
   "nbconvert_exporter": "python",
   "pygments_lexer": "ipython3",
   "version": "3.12.2"
  }
 },
 "nbformat": 4,
 "nbformat_minor": 2
}
