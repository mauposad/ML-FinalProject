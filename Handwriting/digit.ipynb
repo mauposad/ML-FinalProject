{
 "cells": [
  {
   "cell_type": "markdown",
   "metadata": {},
   "source": [
    "### Importing data sets\n",
    "    will be using EMNIST data set imported from pytorch. \n",
    "    In the preprocessing stages\n",
    "### TO-DO\n",
    "    how to properly work with images (normally used to numbers)\n",
    "    how to preprocess this data"
   ]
  },
  {
   "cell_type": "code",
   "execution_count": 3,
   "metadata": {},
   "outputs": [],
   "source": [
    "import torchvision.transforms as transforms\n",
    "import torchvision.datasets as EMNIST\n",
    "import sklearn\n",
    "import pandas as pd\n",
    "import torch \n",
    "import torch.nn as nn\n",
    "import numpy"
   ]
  }
 ],
 "metadata": {
  "kernelspec": {
   "display_name": "ML",
   "language": "python",
   "name": "python3"
  },
  "language_info": {
   "codemirror_mode": {
    "name": "ipython",
    "version": 3
   },
   "file_extension": ".py",
   "mimetype": "text/x-python",
   "name": "python",
   "nbconvert_exporter": "python",
   "pygments_lexer": "ipython3",
   "version": "3.12.2"
  }
 },
 "nbformat": 4,
 "nbformat_minor": 2
}
